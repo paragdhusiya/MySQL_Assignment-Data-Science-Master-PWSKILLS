{
 "cells": [
  {
   "cell_type": "markdown",
   "metadata": {},
   "source": [
    "Q1. What is a database? Differentiate between SQL and NoSQL databases.\n"
   ]
  },
  {
   "cell_type": "code",
   "execution_count": 2,
   "metadata": {},
   "outputs": [
    {
     "data": {
      "text/plain": [
       "'\\nSQL Databases:\\n\\nStructured Data: SQL databases are relational and follow a tabular structure where data is organized into tables.\\nSchema: Requires a predefined schema that specifies the structure of the data, including tables, fields, and relationships.\\nFlexibility: Not as flexible when it comes to changes in data structure. Altering the schema may be challenging.\\nScalability: Vertical scaling is the common approach to handle increased load (adding more resources to a single server).\\nExamples: MySQL, PostgreSQL, SQLite, Oracle.\\nNoSQL Databases:\\n\\nUnstructured or Semi-Structured Data: NoSQL databases can handle a variety of data formats, including JSON, XML, key-value pairs, and more.\\nSchema-less: No strict schema requirements. Fields can be added on the fly, providing flexibility.\\nFlexibility: Well-suited for dynamic and evolving data with no fixed schema.\\nScalability: Horizontal scaling is a common approach, adding more servers to distribute the load.\\nExamples: MongoDB, Cassandra, CouchDB, Redis.\\n\\n'"
      ]
     },
     "execution_count": 2,
     "metadata": {},
     "output_type": "execute_result"
    }
   ],
   "source": [
    "\"\"\"\n",
    "SQL Databases:\n",
    "\n",
    "Structured Data: SQL databases are relational and follow a tabular structure where data is organized into tables.\n",
    "Schema: Requires a predefined schema that specifies the structure of the data, including tables, fields, and relationships.\n",
    "Flexibility: Not as flexible when it comes to changes in data structure. Altering the schema may be challenging.\n",
    "Scalability: Vertical scaling is the common approach to handle increased load (adding more resources to a single server).\n",
    "Examples: MySQL, PostgreSQL, SQLite, Oracle.\n",
    "NoSQL Databases:\n",
    "\n",
    "Unstructured or Semi-Structured Data: NoSQL databases can handle a variety of data formats, including JSON, XML, key-value pairs, and more.\n",
    "Schema-less: No strict schema requirements. Fields can be added on the fly, providing flexibility.\n",
    "Flexibility: Well-suited for dynamic and evolving data with no fixed schema.\n",
    "Scalability: Horizontal scaling is a common approach, adding more servers to distribute the load.\n",
    "Examples: MongoDB, Cassandra, CouchDB, Redis.\n",
    "\n",
    "\"\"\""
   ]
  },
  {
   "cell_type": "markdown",
   "metadata": {},
   "source": [
    "Q2. What is DDL? Explain why CREATE, DROP, ALTER, and TRUNCATE are used with an example."
   ]
  },
  {
   "cell_type": "code",
   "execution_count": 3,
   "metadata": {},
   "outputs": [],
   "source": [
    "import sqlite3\n",
    "\n",
    "# Connect to the SQLite database (creates a new database if not exists)\n",
    "conn = sqlite3.connect('example_sqlite.db')\n",
    "\n",
    "# Create a table using the CREATE command\n",
    "create_table_query = '''\n",
    "    CREATE TABLE IF NOT EXISTS students (\n",
    "        id INTEGER PRIMARY KEY,\n",
    "        name TEXT,\n",
    "        age INTEGER\n",
    "    )\n",
    "'''\n",
    "conn.execute(create_table_query)\n",
    "\n",
    "# Insert data into the table\n",
    "insert_data_query = 'INSERT INTO students (name, age) VALUES (?, ?)'\n",
    "conn.execute(insert_data_query, ('John Doe', 25))\n",
    "conn.execute(insert_data_query, ('Jane Smith', 30))\n",
    "\n",
    "# Commit changes\n",
    "conn.commit()\n",
    "\n",
    "# Alter the table by adding a new column\n",
    "alter_table_query = 'ALTER TABLE students ADD COLUMN grade CHAR(1)'\n",
    "conn.execute(alter_table_query)\n",
    "\n",
    "# Truncate the table (remove all records)\n",
    "truncate_table_query = 'DELETE FROM students'\n",
    "conn.execute(truncate_table_query)\n",
    "\n",
    "# Commit changes and close the connection\n",
    "conn.commit()\n",
    "conn.close()\n"
   ]
  },
  {
   "cell_type": "markdown",
   "metadata": {},
   "source": [
    "Q3. What is DML? Explain INSERT, UPDATE, and DELETE with an example."
   ]
  },
  {
   "cell_type": "code",
   "execution_count": null,
   "metadata": {},
   "outputs": [],
   "source": [
    "import sqlite3\n",
    "\n",
    "# Connect to the SQLite database\n",
    "conn = sqlite3.connect('example_sqlite.db')\n",
    "\n",
    "# Insert a new student using the INSERT command\n",
    "insert_data_query = 'INSERT INTO students (name, age, grade) VALUES (?, ?, ?)'\n",
    "conn.execute(insert_data_query, ('Alice Johnson', 22, 'A'))\n",
    "\n",
    "# Commit changes\n",
    "conn.commit()\n",
    "\n",
    "# Update the age of a student using the UPDATE command\n",
    "update_data_query = 'UPDATE students SET age = ? WHERE name = ?'\n",
    "conn.execute(update_data_query, (23, 'Alice Johnson'))\n",
    "\n",
    "# Commit changes\n",
    "conn.commit()\n",
    "\n",
    "# Delete a student using the DELETE command\n",
    "delete_data_query = 'DELETE FROM students WHERE name = ?'\n",
    "conn.execute(delete_data_query, ('Alice Johnson',))\n",
    "\n",
    "# Commit changes and close the connection\n",
    "conn.commit()\n",
    "conn.close()\n"
   ]
  },
  {
   "cell_type": "markdown",
   "metadata": {},
   "source": [
    "Q4. What is DQL? Explain SELECT with an example"
   ]
  },
  {
   "cell_type": "code",
   "execution_count": 4,
   "metadata": {},
   "outputs": [],
   "source": [
    "import sqlite3\n",
    "\n",
    "# Connect to the SQLite database\n",
    "conn = sqlite3.connect('example_sqlite.db')\n",
    "\n",
    "# Execute a SELECT query to retrieve all students\n",
    "select_query = 'SELECT * FROM students'\n",
    "result = conn.execute(select_query).fetchall()\n",
    "\n",
    "# Display the result\n",
    "for row in result:\n",
    "    print(row)\n",
    "\n",
    "# Close the connection\n",
    "conn.close()\n"
   ]
  },
  {
   "cell_type": "markdown",
   "metadata": {},
   "source": [
    "Q5. Explain Primary Key and Foreign Key."
   ]
  },
  {
   "cell_type": "code",
   "execution_count": 5,
   "metadata": {},
   "outputs": [],
   "source": [
    "import sqlite3\n",
    "\n",
    "# Connect to SQLite database (or create if not exists)\n",
    "conn = sqlite3.connect('university.db')\n",
    "cursor = conn.cursor()\n",
    "\n",
    "# Create students table\n",
    "cursor.execute('''\n",
    "    CREATE TABLE IF NOT EXISTS students (\n",
    "        student_id INTEGER PRIMARY KEY,\n",
    "        name TEXT,\n",
    "        age INTEGER\n",
    "    )\n",
    "''')\n",
    "\n",
    "# Insert sample data into students table\n",
    "cursor.executemany('INSERT INTO students (name, age) VALUES (?, ?)', [\n",
    "    ('Alice', 20),\n",
    "    ('Bob', 22),\n",
    "    ('Charlie', 21)\n",
    "])\n",
    "\n",
    "# Create courses table with a foreign key referencing students table\n",
    "cursor.execute('''\n",
    "    CREATE TABLE IF NOT EXISTS courses (\n",
    "        course_id INTEGER PRIMARY KEY,\n",
    "        course_name TEXT,\n",
    "        student_id INTEGER,\n",
    "        FOREIGN KEY (student_id) REFERENCES students (student_id)\n",
    "    )\n",
    "''')\n",
    "\n",
    "# Insert sample data into courses table\n",
    "cursor.executemany('INSERT INTO courses (course_name, student_id) VALUES (?, ?)', [\n",
    "    ('Math', 1),\n",
    "    ('History', 2),\n",
    "    ('Physics', 3)\n",
    "])\n",
    "\n",
    "# Commit changes and close connection\n",
    "conn.commit()\n",
    "conn.close()\n"
   ]
  },
  {
   "cell_type": "markdown",
   "metadata": {},
   "source": [
    "Q6. Write a python code to connect MySQL to python. Explain the cursor() and execute() method."
   ]
  },
  {
   "cell_type": "code",
   "execution_count": null,
   "metadata": {},
   "outputs": [],
   "source": [
    "import mysql.connector\n",
    "\n",
    "# Connect to MySQL database\n",
    "conn = mysql.connector.connect(\n",
    "    host=\"localhost\",\n",
    "    user=\"abcr\",\n",
    "    password=\"password\",\n",
    "    database=\"test3\"\n",
    ")\n",
    "\n",
    "# Create a cursor object to interact with the database\n",
    "cursor = conn.cursor()\n",
    "\n",
    "# Execute a simple query to create a table\n",
    "table_creation_query = '''\n",
    "    CREATE TABLE IF NOT EXISTS employees (\n",
    "        emp_id INT AUTO_INCREMENT PRIMARY KEY,\n",
    "        emp_name VARCHAR(255),\n",
    "        emp_salary DOUBLE\n",
    "    )\n",
    "'''\n",
    "cursor.execute(table_creation_query)\n",
    "\n",
    "# Insert data into the table using the execute method\n",
    "employee_data = [\n",
    "    (\"John Doe\", 50000),\n",
    "    (\"Jane Smith\", 60000),\n",
    "    (\"Bob Johnson\", 55000)\n",
    "]\n",
    "\n",
    "insert_query = \"INSERT INTO employees (emp_name, emp_salary) VALUES (%s, %s)\"\n",
    "cursor.executemany(insert_query, employee_data)\n",
    "\n",
    "# Commit the changes to the database\n",
    "conn.commit()\n",
    "\n",
    "# Close the cursor and connection\n",
    "cursor.close()\n",
    "conn.close()\n"
   ]
  }
 ],
 "metadata": {
  "kernelspec": {
   "display_name": "Python 3",
   "language": "python",
   "name": "python3"
  },
  "language_info": {
   "codemirror_mode": {
    "name": "ipython",
    "version": 3
   },
   "file_extension": ".py",
   "mimetype": "text/x-python",
   "name": "python",
   "nbconvert_exporter": "python",
   "pygments_lexer": "ipython3",
   "version": "3.11.3"
  }
 },
 "nbformat": 4,
 "nbformat_minor": 2
}
